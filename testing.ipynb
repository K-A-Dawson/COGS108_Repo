{
 "cells": [
  {
   "cell_type": "markdown",
   "metadata": {},
   "source": [
    "**If you lost points on the last checkpoint you can get them back by responding to TA/IA feedback**  \n",
    "\n",
    "Update/change the relevant sections where you lost those points, make sure you respond on GitHub Issues to your TA/IA to call their attention to the changes you made here.\n",
    "\n",
    "Please update your Timeline... no battle plan survives contact with the enemy, so make sure we understand how your plans have changed."
   ]
  },
  {
   "cell_type": "markdown",
   "metadata": {},
   "source": [
    "# COGS 108 - EDA Checkpoint"
   ]
  },
  {
   "cell_type": "markdown",
   "metadata": {},
   "source": [
    "# Names\n",
    "\n",
    "- Kyla Dawson\n",
    "- Gabriel Dominguez\n",
    "- Elijah Guerrero\n",
    "- Kayla Megerdichian\n",
    "- Andrew Megerdoomian"
   ]
  },
  {
   "cell_type": "markdown",
   "metadata": {},
   "source": [
    "# Research Question"
   ]
  },
  {
   "cell_type": "markdown",
   "metadata": {},
   "source": [
    "Have NFL stadiums built since 2014 to present day significantly impacted their respective cities debt, spending, and income in the year following their construction compared to the year before?\n"
   ]
  },
  {
   "cell_type": "markdown",
   "metadata": {},
   "source": [
    "## Background and Prior Work"
   ]
  },
  {
   "cell_type": "markdown",
   "metadata": {},
   "source": [
    "\n",
    "As the world has progressed and evolved over the past couple centuries, sports has synonymously grown alongside it. Starting out as mere games that children can play with each other on the schoolyard, they have grown to become some of the most important parts of the culture that exists within countries. To all of us working on this project, they are a passionate source of fun and camaraderie between each other. They have become ingrained within the lives of many people, and as a result, the highest levels of these sports have also become highly important to the economic status of the local community. In particular, the existence of a top-level professional sports team in an area has the potential (and has consistently promised) to benefit the surrounding area economically, through the use of job creation, revenue generation, and overall income. But have they?\n",
    "\n",
    "Previous work has shown differing results depending on where you look. According to Matthews.com, NFL stadiums have only been beneficial to their surrounding communities, stating that there has been a “5% increase in local employment, a 20% rise in infrastructure spending, and a 10% growth in retail sales,” whilst also stating that there is a 15% increase in business formation within the first five years of a stadium’s creation. <a name=\"cite_ref-5\"></a>[<sup>5</sup>](#cite_note-5) According to Brookings.edu, however, their data shows that this “economic growth” that happens within the area is not growth at all, when looking at the resources that went into the construction of the stadium in the first place. They used Baltimore as an example, where MLB stadium Oriole Park costed the city 200 million dollars to build, claiming “the net gain to Baltimore’s economy in terms of new jobs and incremental tax revenues is only about 3 million dollars a year”. This report, despite being produced in 1997, undoubtedly could hold true today. <a name=\"cite_ref-6\"></a>[<sup>6</sup>](#cite_note-6) \n",
    "\n",
    "We can even directly look at the Las Vegas Raiders’ 2023 Impact Report, which is intended to show insight into how they have impacted the local community. They have reportedly injected billions of dollars into the city, while also doing charitable work and hosting football events for the local youth <a name=\"cite_ref-1\"></a>[<sup>1</sup>](#cite_note-1). However, according to the Nevada Current’s Hugh Jackson, this money being made is “clearly failing to reach people who work in service jobs that are the largest employment sectors throughout the valleys”.<a name=\"cite_ref-2\"></a>[<sup>2</sup>](#cite_note-2) So which is it? To determine whether or not the construction of newer NFL stadiums, we will use the data provided by the teams themselves,<a name=\"cite_ref-3\"></a>[<sup>3</sup>](#cite_note-3) as well as the economical data available to us of the surrounding areas,<a name=\"cite_ref-4\"></a>[<sup>4</sup>](#cite_note-4) in the hopes that we can find a consistent and accurate correlation between the existence of an NFL stadium and local growth or reduction.\n",
    "\n",
    "1. <a name=\"cite_note-1\"></a> [^](#cite_ref-1) Wright, J (20 Dec 2023) Raiders: Economic impact of Allegiant Stadium is over $2.29 billion. *KTNV Las Vegas*. https://www.ktnv.com/sports/raiders/raiders-economic-impact-of-allegiant-stadium-is-over-2-29-billion \n",
    "2. <a name=\"cite_note-3\"></a> [^](#cite_ref-3) Jackson, H (14 April 2022) For Nevada’s workforce, the game’s still the same. *Nevada Current*. https://nevadacurrent.com/2022/04/14/for-nevadas-workforce-the-games-still-the-same/ \n",
    "3. <a name=\"cite_note-2\"></a> [^](#cite_ref-2) *Ballparks of Baseball*. https://www.ballparksofbaseball.com/comparisons/current-ballparks/ \n",
    "4. <a name=\"cite_note-4\"></a> [^](#cite_ref-4) Snel, A (17 May 2024) Congrats, Las Vegas/Clark County… *LV Sports Biz*. https://lvsportsbiz.com/2024/05/17/congrats-las-vegas-clark-county-youre-only-1178161041-from-paying-off-your-raiders-stadium-debt-remember-its-principal-and-interest/#:~:text=During%20the%2030%2Dyear%20debt,construction%20budget%20of%20%241.4%20billion. \n",
    "5. <a name=\"cite_note-5\"></a> [^](#cite_ref-5) (21 October 2024) NFL Stadiums Impact on Local CRE Markets. *Matthews Real Estate Investment Services*. https://www.matthews.com/nfl-stadiums-impact-on-local-cre-markets/#:~:text=Data%20shows%20a%205%25%20increase,within%20the%20first%20five%20years. \n",
    "6. <a name=\"cite_note-6\"></a> [^](#cite_ref-6) Zimbalist, A (1 June 1997) Sports, Jobs, & Taxes: Are New Stadiums Worth the Cost? *Brookings*. https://www.brookings.edu/articles/sports-jobs-taxes-are-new-stadiums-worth-the-cost/ \n",
    "\n"
   ]
  },
  {
   "cell_type": "markdown",
   "metadata": {},
   "source": [
    "# Hypothesis\n"
   ]
  },
  {
   "cell_type": "markdown",
   "metadata": {},
   "source": [
    "We believe NFL stadiums built in the last 10 years will positively impact a city's debt, revenue, and income. Our reasoning for this belief comes from the notion that new stadiums would increase jobs (in instances such as construction), and business revenue (with tourists coming to the city for the stadium's events)."
   ]
  },
  {
   "cell_type": "markdown",
   "metadata": {},
   "source": [
    "# Data"
   ]
  },
  {
   "cell_type": "markdown",
   "metadata": {},
   "source": [
    "## Data overview\n",
    "- Dataset 1\n",
    "  - Main Dataset - Overall City Data\n",
    "  - Dataset here: https://docs.google.com/spreadsheets/d/e/2PACX-1vQZh84bKE-13rTS4PEv4NDS-xiQ2gT-sQnd0N11LVQpKTXeSIDCjvZOpkcbuqiolRbPpho9LYn2Hst5/pubhtml\n",
    "  - 32 observations\n",
    "  - 23 variables\n",
    "\n",
    " This dataset records three main types of governement financial information: debts/bonds, revenue made, and expenditures. Observations include city and year, focusing on the years preceeding and following the building of a stadim. The variables are departments and/or sources from which the money was made/spent on. Most of the cities which we drew our data from did not provide significant information on debts/bonds, so those variables were dropped in the individual datasets for each city. We hope to use the data describing the flow of money as a measure of commerce.\n",
    "\n",
    "- Dataset 2\n",
    "  - Las Vegas Financials\n",
    "  - Las Vegas Dataset: https://docs.google.com/spreadsheets/d/e/2PACX-1vRWQlilm830or1ohUTafSZ2qq9aXxfSwrshR56n8InR7T6XxJI_no18gp0SoynfYkIF8G7TTgPB1xbj/pubhtml\n",
    "  - 7 observations\n",
    "  - 15 variables\n",
    "\n",
    "Dataset 2 is an accumulation of Las Vegas' financial reports from the 3 years before Allegiant Stadium was built (2017-2019) and the 4 years after it was built (2021-2024). In this dataset, the observations are years, and the variables are the different metrics the city used to report on financially. There are only fifteen due to skipping the city name column in my graph. In my code I cleaned the data by indexing specific columns and dropping the columns missing variables beforehand in a larger spreadsheet. This led to already clean data in the link above.\n",
    "\n",
    "- Dataset 3\n",
    "  - Minneapolis Financials\n",
    "  - Minneapolis Dataset: https://docs.google.com/spreadsheets/d/e/2PACX-1vQW3pxGBHdGLF-wjEEVuhInh2JcYLEAqxo48VbjdEdhzy4ejOqCY3rB29cwopmlWFrXV_2twJENPO8h/pubhtml\n",
    "  - 7 observations\n",
    "  - 16 variables\n",
    "\n",
    "Dataset 3 looks at the change in revenue and expenses made by the city of Minneapolis in the two years before the US Bank Stadium was built in 2016, and the five years afterwards (2017-2021). Unfortunately, finding comprehensive and reliable numbers from earlier than 2014 was difficult, as was information on bonds and debt. These rows and columns have been filtered out.*\n",
    "\n",
    "- Dataset 4\n",
    "  - Inglewood Financials\n",
    "  - Inglewood Dataset: https://docs.google.com/spreadsheets/d/e/2PACX-1vRA2SGlkTZPCv7rJeyP7aYDJkG6tIAXv_Wz99o-ZOQEnrhtAcbGa7q4N4KT1zfLac7iEjFH1FowHwmH/pubhtml\n",
    "  - 5 observations\n",
    "  - 16 variables\n",
    "\n",
    "Dataset 4 looks at the changes in revenue and expenses within the city of Inglewood over the course of five years, with three being before the opening of SoFi Stadium in 2020 and two being after. The observations in this dataset are the five individual years we looked at, with the individual variables being different categories the city reported on to describe the city's finances. This data was found in the city's public CAFR for each year.\n",
    "\n",
    "- Dataset 5\n",
    "  - Santa Clara Financials\n",
    "  - Santa Clara Dataset: https://docs.google.com/spreadsheets/d/e/2PACX-1vTsupJA9XsVeoAiW18f2J6YpDCsHFCAMqYHgKjexJsTg7YPEjcMIYLgHNblIMM-ViKkJaTmJkfler7u/pubhtml\n",
    "  - 8 observations\n",
    "  - 24 variables\n",
    "\n",
    "Dataset 5 looks at financial information in the city of Santa Clara corresponding to the 3 years prior to the construction of Levi's Stadium and the 5 subsequent years. The stadium was built in 2014 for the San Francisco 49ers. The information within the dataset displays amounts (in US dollars) the city of Santa Clara reported in various kinds of bonds, expenditures, and revenues. The data was found via the city of Santa Clara's Comprehensive Annual Financial Reports from the years 2011-2013 and 2015-2019, where most of the relevant information was found (apart from in the year 2019).\n",
    "\n",
    "- Dataset 6\n",
    "  - Atlanta Financials\n",
    "  - Atlanta Dataset: https://docs.google.com/spreadsheets/d/e/2PACX-1vT9d1vXy86vtY61L7EsFLjVJlKsKvMrsShrC4vWtCTOmqCh2iy6FoLd-Y_mUiz1FB2-cgy2ssTqVkVI/pubhtml\n",
    "  - 7 observations\n",
    "  - 16 variables\n",
    "\n",
    "This dataset focuses on the financial performance of the city of Atlanta during the three years before and the four years after the construction of Mercedes-Benz Stadium, completed in 2017. The observations span from 2013 to 2020, representing individual years, with the variables (16 total) including categories like city revenue, operating expenses, capital expenditures, and other financial metrics reported in the city's Popular Annual Financial Reports (PAFR) serving as proxies for measuring the city's economic activity via revenue streams and expenditures, and financial health over the time frame. The dataset required minimal preprocessing due to it being manually sourced directly from the city's PAFR for  reliability purposes. During the cleaning process, columns with missing variables were dropped from the larger financial spreadsheet for all the cities, \"Cities Financial Report\", to focus the analysis to Atlanta and have consistency.\n",
    "\n",
    "Through trends in a city's end-of-year reports, we plan on showing each city's financial situations before and after a stadium was built. With each city visualized, we then plan to compare all cities in another graph to see if there is a general positive or negative impact of stadiums on city finances."
   ]
  },
  {
   "cell_type": "markdown",
   "metadata": {},
   "source": [
    "## Imports for Financial Report Datasets"
   ]
  },
  {
   "cell_type": "code",
   "execution_count": null,
   "metadata": {},
   "outputs": [],
   "source": [
    "import seaborn as sns\n",
    "sns.set(font_scale=2, style='white')\n",
    "\n",
    "import matplotlib as mpl\n",
    "import matplotlib.pyplot as plt\n",
    "import matplotlib.style as style\n",
    "\n",
    "plt.rcParams['figure.figsize'] = (17, 7)\n",
    "\n",
    "import pandas as pd\n",
    "import numpy as np\n",
    "n\n",
    "import statsmodels.api as sm\n"
   ]
  },
  {
   "cell_type": "markdown",
   "metadata": {},
   "source": [
    "## Las Vegas Financial Report Dataset"
   ]
  },
  {
   "cell_type": "code",
   "execution_count": null,
   "metadata": {},
   "outputs": [],
   "source": [
    "vegas = pd.read_csv('Vegas_Finance.csv')\n",
    "vegas_rev = vegas.loc[:, 'Taxes':'Other Revenue'].columns.tolist()\n",
    "vegas_expen = vegas.loc[:, 'General Government':'Interest and Fiscal Charges'].columns.tolist()\n",
    "\n",
    "vegas[vegas_rev] = vegas[vegas_rev].apply(pd.to_numeric, errors='coerce')\n",
    "vegas[vegas_expen] = vegas[vegas_expen].apply(pd.to_numeric, errors='coerce')\n",
    "\n",
    "vegas['revenue'] = vegas[vegas_rev].sum(axis=1)\n",
    "vegas['expenditures'] = vegas[vegas_expen].sum(axis=1)\n",
    "\n"
   ]
  },
  {
   "cell_type": "markdown",
   "metadata": {},
   "source": [
    "## Minneapolis Financial Report Dataset"
   ]
  },
  {
   "cell_type": "code",
   "execution_count": null,
   "metadata": {},
   "outputs": [],
   "source": [
    "minneapolis_raw = pd.read_csv('minneapolis_data - Sheet1.csv')\n",
    "minneapolis_raw.dropna(axis = 1, how = 'all', inplace  = True)\n",
    "minneapolis = minneapolis_raw.drop(0).drop('General Obligation Bonds', axis=1)\n",
    "\n",
    "minneapolis_rev = minneapolis.loc[:, 'Taxes':'Other Revenue'].columns.tolist()\n",
    "minneapolis_expen = minneapolis.loc[:, 'General Government':'Interest and Fiscal Charges'].columns.tolist()\n",
    "\n",
    "minneapolis['Revenue'] = minneapolis[minneapolis_rev].sum(axis = 1)\n",
    "minneapolis['Expenditures'] = minneapolis[minneapolis_expen].sum(axis = 1)\n",
    "\n"
   ]
  },
  {
   "cell_type": "markdown",
   "metadata": {},
   "source": [
    "## Santa Clara Financial Report Dataset"
   ]
  },
  {
   "cell_type": "code",
   "execution_count": null,
   "metadata": {},
   "outputs": [],
   "source": [
    "santaclara = pd.read_csv('SantaClara_Finance.csv')\n",
    "santaclara = santaclara.apply(pd.to_numeric, errors='coerce')\n",
    "santaclara.dropna(axis=1, how='any', inplace=True)\n",
    "\n",
    "santaclara['revenue'] = santaclara[['taxes', 'licenses and permits', 'fines, forfeitures, and penalties', 'interest and investment income', 'intergovernmental revenues', 'charges for services', 'other revenue']].sum(axis=1)\n",
    "santaclara['expenditures'] = santaclara[['general government', 'public protection', 'health and sanitation', 'public assistance', 'capital outlay', 'principal retirement', 'interest and fiscal charges']].sum(axis=1)\n",
    "\n"
   ]
  },
  {
   "cell_type": "markdown",
   "metadata": {},
   "source": [
    "## Inglewood Financial Report Dataset"
   ]
  },
  {
   "cell_type": "code",
   "execution_count": null,
   "metadata": {},
   "outputs": [],
   "source": [
    "inglewood = pd.read_csv('Inglewood Financial Report - Sheet2.csv')\n",
    "inglewood = inglewood.apply(pd.to_numeric, errors='coerce')\n",
    "inglewood.dropna(axis=1, how='any', inplace=True)\n",
    "\n",
    "inglewood['revenue'] = inglewood[['taxes', 'licenses and permits', 'fines, forfeitures, and penalties', 'interest and investment income', 'intergovernmental revenues', 'charges for services', 'other revenue']].sum(axis=1)\n",
    "inglewood['expenditures'] = inglewood[['general government', 'public protection', 'health and sanitation', 'public assistance', 'capital outlay', 'principal retirement', 'interest and fiscal charges']].sum(axis=1)\n",
    "\n"
   ]
  },
  {
   "cell_type": "markdown",
   "metadata": {},
   "source": [
    "## Atlanta Financial Report Dataset"
   ]
  },
  {
   "cell_type": "code",
   "execution_count": null,
   "metadata": {},
   "outputs": [],
   "source": [
    "# ur code here. feel free to copy the layout of one of the above codes to keep the syntax correct\n",
    "\n"
   ]
  },
  {
   "cell_type": "markdown",
   "metadata": {},
   "source": [
    "# Results\n",
    "\n",
    "## Exploratory Data Analysis\n",
    "\n",
    "Carry out whatever EDA you need to for your project.  Because every project will be different we can't really give you much of a template at this point. But please make sure you describe the what and why in text here as well as providing interpretation of results and context."
   ]
  },
  {
   "cell_type": "markdown",
   "metadata": {},
   "source": [
    "Five Cities' Financial Graphs\n",
    "\n",
    "Some more words and stuff.  Remember notebooks work best if you interleave the code that generates a result with properly annotate figures and text that puts these results into context."
   ]
  },
  {
   "cell_type": "markdown",
   "metadata": {},
   "source": [
    "## Vegas visuals\n",
    "\n",
    "context context context. describe the implications of the graph(s) below."
   ]
  },
  {
   "cell_type": "code",
   "execution_count": null,
   "metadata": {},
   "outputs": [],
   "source": [
    "plt.figure(figsize=(14, 10))\n",
    "plt.plot(vegas['year'], vegas['revenue'], label='Revenue', color='green', marker='o')\n",
    "plt.plot(vegas['year'], vegas['expenditures'], label='Expenditures', color='blue', marker='o')\n",
    "\n",
    "plt.title('Las Vegas Yearly Financial Changes')\n",
    "plt.xlabel('Year')\n",
    "plt.ylabel('Amount in Money')\n",
    "plt.grid(True)\n",
    "plt.legend()\n",
    "plt.xticks(vegas['year'])\n",
    "plt.tight_layout()\n",
    "\n",
    "plt.show()\n",
    "\n"
   ]
  },
  {
   "cell_type": "markdown",
   "metadata": {},
   "source": [
    "## Minneapolis visuals\n",
    "\n",
    "context context context. describe the implications of the graph(s) below."
   ]
  },
  {
   "cell_type": "code",
   "execution_count": null,
   "metadata": {},
   "outputs": [],
   "source": [
    "plt.figure(figsize=(10,7))\n",
    "plt.plot(minneapolis['year'], minneapolis['Revenue'], label='Revenue', color='green', marker='o')\n",
    "plt.plot(minneapolis['year'], minneapolis['Expenditures'], label='Expenditures', color='red', marker='o')\n",
    "\n",
    "plt.title('Minneapolis Yearly Financial Changes')\n",
    "plt.xlabel('Year')\n",
    "plt.ylabel('Amount in Money')\n",
    "plt.grid(True)\n",
    "plt.legend()\n",
    "plt.xticks(minneapolis['year'])\n",
    "plt.tight_layout()\n",
    "\n",
    "plt.show()\n",
    "\n"
   ]
  },
  {
   "cell_type": "markdown",
   "metadata": {},
   "source": [
    "## Santa Clara visuals\n",
    "\n",
    "context context context. describe the implications of the graph(s) below."
   ]
  },
  {
   "cell_type": "code",
   "execution_count": null,
   "metadata": {},
   "outputs": [],
   "source": [
    "plt.figure(figsize=(10,7))\n",
    "plt.plot(santaclara['year'], santaclara['revenue'], label='Revenue', color='green', marker='o')\n",
    "plt.plot(santaclara['year'], santaclara['expenditures'], label='Expenditures', color='blue', marker='o')\n",
    "\n",
    "plt.title('Santa Clara Yearly Financial Changes')\n",
    "plt.xlabel('Year')\n",
    "plt.ylabel('Amount in Money')\n",
    "plt.grid(True)\n",
    "plt.legend()\n",
    "plt.xticks(santaclara['year'])\n",
    "plt.tight_layout()\n",
    "\n",
    "plt.show()\n",
    "\n"
   ]
  },
  {
   "cell_type": "markdown",
   "metadata": {},
   "source": [
    "## Inglewood visuals\n",
    "\n",
    "context context context. describe the implications of the graph(s) below."
   ]
  },
  {
   "cell_type": "code",
   "execution_count": null,
   "metadata": {},
   "outputs": [],
   "source": [
    "plt.figure(figsize=(10,7))\n",
    "plt.plot(inglewood['year'], inglewood['revenue'], label='Revenue', color='green', marker='o')\n",
    "plt.plot(inglewood['year'], inglewood['expenditures'], label='Expenditures', color='blue', marker='o')\n",
    "\n",
    "plt.title('Inglewood Yearly Financial Changes')\n",
    "plt.xlabel('Year')\n",
    "plt.ylabel('Amount in Money')\n",
    "plt.grid(True)\n",
    "plt.legend()\n",
    "plt.xticks(inglewood['year'])\n",
    "plt.tight_layout()\n",
    "\n",
    "plt.show()\n",
    "\n"
   ]
  },
  {
   "cell_type": "markdown",
   "metadata": {},
   "source": [
    "## Atlanta visuals\n",
    "\n",
    "context context context. describe the implications of the graph(s) below."
   ]
  },
  {
   "cell_type": "code",
   "execution_count": null,
   "metadata": {},
   "outputs": [],
   "source": [
    "# ur code here. feel free to copy the layout of one of the above codes to keep the syntax correct\n",
    "plt.tight_layout()\n",
    "\n",
    "plt.show()\n",
    "\n"
   ]
  },
  {
   "cell_type": "markdown",
   "metadata": {},
   "source": [
    "### Section 2 of EDA if you need it  - please give it a better title than this\n",
    "\n",
    "Some more words and stuff. Maybe we talk abt whole data? Remember notebooks work best if you interleave the code that generates a result with properly annotate figures and text that puts these results into context."
   ]
  },
  {
   "cell_type": "code",
   "execution_count": null,
   "metadata": {},
   "outputs": [],
   "source": [
    "## YOUR CODE HERE\n",
    "## FEEL FREE TO ADD MULTIPLE CELLS PER SECTION"
   ]
  },
  {
   "cell_type": "markdown",
   "metadata": {},
   "source": [
    "# Ethics & Privacy"
   ]
  },
  {
   "cell_type": "markdown",
   "metadata": {},
   "source": [
    "### MUST EDIT IN ACCORDANCE TO NEW DATA SIZE!!! Feedback from prior issue: \"Your dataset as of now is quite small making it hard to avoid being skewed, how do you plan to handle this factor?\"\n",
    "\n",
    "- Ethical concerns that could arise from our work would depend on how we handled the data we collected. For example, if we took reports and articles from Levi stadium themselves then the data would be biased and lean towards a certain viewpoint. We avoided this by purposely choosing articles that come from unbiased sources and government records that were released to the public. This included reports of government spendings, income, and debt.\n",
    "- Some ethical concerns about the whole data science process stem from finding spendings of local businesses. Most have private earnings that are unfindable, which wouldn’t be right if we were narrowing down to a business while focused city wide spendings. The bias in data is another huge concern because most data leans toward showing positive impacts on economics and usually skips over the debt, so we would need to dig deeper. Finally, post analysis of our findings could influence public opinion over sports teams whether they are popular or not resulting in more financial burdens for small businesses reliant on stadiums.\n",
    "- Our group handled bias and ethical concerns through staying unbiased in source findings, relying on sources that were reputable, avoiding unreliable sources, and staying un involved emotionally in the outcome.\n",
    "\n",
    "\n",
    "Acknowledge and address any ethics & privacy related issues of your question(s), proposed dataset(s), and/or analyses. Use the information provided in lecture to guide your group discussion and thinking. If you need further guidance, check out Deon's Ethics Checklist. In particular:\n",
    "\n",
    "- With the data proposed, the biggest issue we face from Deon’s Ethics Checklist is dataset bias as our data comes solely from the government themselves and we need more outlooks, this could for now be confirmation bias as the city gets better every year in our data. Another issue we could face comes from collection bias. We need to heavily expand on where data comes from while still looking at the city reports in order to truly understand the view from far away.\n",
    "- As of right now we don’t see a potential bias in our dataset since as of right now our data is a report of Santa Clara income, spendings, and debt as reported by the government yearly. We need to expand on reports after this to avoid tunnel vision. Our data mainly excludes small businesses that keep their endings private.\n",
    "- We will set out to detect these specific biases during and after communicating our analysis by finding reports from more sources, reporting on the bad and good findings of our work, and finally expanding upon our collection.\n",
    "As of right now there are no other ethical concerns we are aware of.\n",
    "We will remain unbiased and consistent with our observations, checking for the correct measures."
   ]
  },
  {
   "cell_type": "markdown",
   "metadata": {},
   "source": [
    "# Team Expectations "
   ]
  },
  {
   "cell_type": "markdown",
   "metadata": {},
   "source": [
    "### Team expectation 1: Deadlines\n",
    "Each member is expected to finish their assigned tasks before the agreed-upon deadlines, allowing time for any necessary revisions. Unless specified in our group messaging chat prior, the agreed-upon deadline is at least 12 hours before the assignment's due date, at 11:59pm.\n",
    "\n",
    "### Team expectation 2: Communication\n",
    "Team members should communicate respectfully, ensuring that all opinions are valued. Communication with be via text messaging in our iMessage groupchat for quick messages, questions, and updates, and phone calls for longer or more detailed updates. For accountability purposes, if a member anticipates a delay, they must inform the team as soon as possible, and the team will work together to reassign tasks or provide support as needed. Team members are expected to respond to messages within 9 hours during weekdays and within 15 hours on weekends, unless they have informed the team of unavailability in advance. Meetings are to be scheduled at least 6 hours before the arrival time, and are always scheduled to be in-person, at an assigned member's home, unless communicated otherwise. Unless noted, team meetings will be done every Thursday at 6pm.\n",
    "\n",
    "### Team expectation 3: Equal Contribution\n",
    "Every member must actively contribute to all phases of the project, including research, analysis, and final documentation. The team will review contributions during weekly meetings and redistribute tasks if some areas require additional support."
   ]
  },
  {
   "cell_type": "markdown",
   "metadata": {},
   "source": [
    "# Project Timeline Proposal"
   ]
  },
  {
   "cell_type": "markdown",
   "metadata": {},
   "source": [
    "\n",
    "| Meeting Date  | Meeting Time| Completed Before Meeting  | Discuss at Meeting |\n",
    "|---|---|---|---|\n",
    "| 12/04  | 8pm  | Complete analysis, draft results and conclusion sections, edit based on issues in EDA Checkpoint | Discuss final analysis, review draft findings, prepare for final project compilation and editing |\n",
    "| 12/10  | 9pm  | Complete most project sections, edit and review!! | Grind out any missing big pieces of the project | \n",
    "| 12/11  | 9pm  | More final edits and review!! | Final project, video, team evaluation survey due Dec 11, review all components, submit all components |\n",
    "| 12/12  | 10pm  | NA | Project completion celebration! |"
   ]
  }
 ],
 "metadata": {
  "kernelspec": {
   "display_name": "Python 3 (ipykernel)",
   "language": "python",
   "name": "python3"
  }
 },
 "nbformat": 4,
 "nbformat_minor": 2
}
